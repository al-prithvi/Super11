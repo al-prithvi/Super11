{
  "nbformat": 4,
  "nbformat_minor": 0,
  "metadata": {
    "colab": {
      "name": "Super 11.ipynb",
      "provenance": []
    },
    "kernelspec": {
      "name": "python3",
      "display_name": "Python 3"
    }
  },
  "cells": [
    {
      "cell_type": "code",
      "metadata": {
        "id": "I9B9Cr77SJde",
        "colab_type": "code",
        "colab": {}
      },
      "source": [
        "!unzip CSVs.zip\n",
        "!unzip Helper_Files.zip"
      ],
      "execution_count": 0,
      "outputs": []
    },
    {
      "cell_type": "code",
      "metadata": {
        "id": "EVPAYWk7SQJM",
        "colab_type": "code",
        "colab": {},
        "cellView": "form"
      },
      "source": [
        "import numpy as np\n",
        "import pandas as pd\n",
        "import math\n",
        "import sys\n",
        "sys.path.insert(1, 'Helper_Files')\n",
        "import ipywidgets as widgets\n",
        "from IPython.display import display\n",
        "from Get_Team import getTeam\n",
        "from Get_Playing_22_List import getPlayerList, printPlaying11, generateGraph, printSelectedTeams\n",
        "\n",
        "if __name__==\"__main__\":\n",
        "  match = \"1 SRH RCB\" #@param [\"1 SRH RCB\", \"7 MI KKR\", \"10 SRH MI\", \"12 RCB MI\", \"14 KKR SRH\", \"27 KKR RCB\", \"36 SRH KKR\", \"37 RCB MI\", \"45 RCB KKR\", \"47 MI SRH\", \"53 MI KKR\", \"57 SRH KKR\"]\n",
        "  match_details = match.split()\n",
        "  match_id = match_details[0]\n",
        "  team_1 = match_details[1]\n",
        "  team_2 = match_details[2]\n",
        "  \n",
        "  printPlaying11(match_id, team_1, team_2)\n",
        "  print(\"Getting the Super 11 for Match : \" + team_1 + \" vs \" + team_2 + \"......\")\n",
        "  selection_1, sortedPlayerList_1, pointsList_1, points_1 = getTeam(match_id, team_1, team_2, \"P\")\n",
        "  selection_2, sortedPlayerList_2, pointsList_2, points_2 = getTeam(match_id, team_1, team_2, \"D\")\n",
        "  printSelectedTeams(selection_1, sortedPlayerList_1, pointsList_1, selection_2)\n",
        "  generateGraph(selection_1, sortedPlayerList_1, pointsList_1, selection_2, points_1, points_2)"
      ],
      "execution_count": 0,
      "outputs": []
    }
  ]
}